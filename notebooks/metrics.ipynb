{
 "cells": [
  {
   "cell_type": "markdown",
   "metadata": {},
   "source": [
    "## FAIRSharing metrics"
   ]
  },
  {
   "cell_type": "code",
   "execution_count": 1,
   "metadata": {},
   "outputs": [],
   "source": [
    "from rdflib import Graph, Literal, URIRef, Namespace, RDF\n",
    "from rdflib.namespace import DCTERMS, XSD"
   ]
  },
  {
   "cell_type": "code",
   "execution_count": 2,
   "metadata": {},
   "outputs": [],
   "source": [
    "import json"
   ]
  },
  {
   "cell_type": "code",
   "execution_count": 3,
   "metadata": {},
   "outputs": [],
   "source": [
    "metrics = json.loads(open('metrics.json').read())"
   ]
  },
  {
   "cell_type": "code",
   "execution_count": 4,
   "metadata": {},
   "outputs": [
    {
     "data": {
      "text/plain": [
       "{'license': ['Applies to: Data use = {Creative Commons Attribution-ShareAlike 3.0 Unported (CC BY-SA 3.0)}'],\n",
       " 'scope and data types': ['Approved drug',\n",
       "  'Biomedical Science',\n",
       "  'Peptide',\n",
       "  'Small molecule'],\n",
       " 'terminology artifacts': ['Chemical Entities of Biological Interest',\n",
       "  'PSI Molecular Interaction Controlled Vocabulary'],\n",
       " 'title': 'ChEMBL: a large-scale bioactivity database for drug discovery',\n",
       " 'url': 'https://fairsharing.org/biodbcore-000015'}"
      ]
     },
     "execution_count": 4,
     "metadata": {},
     "output_type": "execute_result"
    }
   ],
   "source": [
    "metrics"
   ]
  },
  {
   "cell_type": "code",
   "execution_count": 5,
   "metadata": {},
   "outputs": [],
   "source": [
    "catalog = json.loads(open('downloadURL.json').read())"
   ]
  },
  {
   "cell_type": "code",
   "execution_count": 16,
   "metadata": {},
   "outputs": [
    {
     "name": "stdout",
     "output_type": "stream",
     "text": [
      "https://fairsharing.org/biodbcore-000015 http://bio2rdf.org#CHEMBL\n",
      "https://fairsharing.org/biodbcore-000456 http://bio2rdf.org#pubmed\n",
      "https://fairsharing.org/biodbcore-000739 http://bio2rdf.org#clinvar\n",
      "https://fairsharing.org/bsg-s000909 http://bio2rdf.org#wikipathways\n",
      "https://fairsharing.org/biodbcore-000304 http://bio2rdf.org#drugbank\n"
     ]
    }
   ],
   "source": [
    "for i,j in catalog.items():\n",
    "    print(i, j)"
   ]
  },
  {
   "cell_type": "code",
   "execution_count": 7,
   "metadata": {},
   "outputs": [],
   "source": [
    "#!conda install -c conda-forge rdflib -y\n",
    "#do it once"
   ]
  },
  {
   "cell_type": "markdown",
   "metadata": {},
   "source": [
    "Write out dataset data quality metrics in RDF using W3C data vocabulary.\n",
    "\n",
    "            :param dataset_id: ID to be used in URI for this data set (String)\n",
    "            :param fps: FAIRsharing preliminary stats (FAIRPrelimStats) [optional]\n",
    "            :param down_url: Download URL of dataset (String) [optional]\n",
    "            :param byte_size: Size of dataset in bytes [optional]\n",
    "            :return: None\n",
    "\n",
    "Converting preliminary statistics to W3C DQV"
   ]
  },
  {
   "cell_type": "code",
   "execution_count": 17,
   "metadata": {},
   "outputs": [],
   "source": [
    "# Define namespaces\n",
    "#ns_local = Namespace(\"http://ncats.nih.gov/\")\n",
    "dqv = Namespace(\"http://www.w3.org/ns/dqv#\")\n",
    "hcls = Namespace(\"http://www.w3.org/hcls#\")\n",
    "bio2rdf = Namespace(\"http://bio2rdf.org#\")\n",
    "skos = Namespace(\"http://www.w3.org/2004/02/skos/core#\")\n",
    "xsd = Namespace(\"http://www.w3.org/2001/XMLSchema#\")\n",
    "prov = Namespace(\"https://www.w3.org/ns/prov#\")\n",
    "dcat = Namespace(\"http://www.w3.org/ns/dcat#\")\n",
    "rdf = Namespace(\"http://www.w3.org/1999/02/22-rdf-syntax-ns#\")\n",
    "dcterms = Namespace(\"http://purl.org/dc/terms/\")"
   ]
  },
  {
   "cell_type": "code",
   "execution_count": 18,
   "metadata": {},
   "outputs": [],
   "source": [
    "g = Graph()"
   ]
  },
  {
   "cell_type": "code",
   "execution_count": 19,
   "metadata": {},
   "outputs": [],
   "source": [
    "dataset = \"http://bio2rdf.org#CHEMBL\"\n",
    "#this is linked to metrics['url']"
   ]
  },
  {
   "cell_type": "code",
   "execution_count": 20,
   "metadata": {},
   "outputs": [],
   "source": [
    "distribution = dataset + 'datasetDistribution'"
   ]
  },
  {
   "cell_type": "markdown",
   "metadata": {},
   "source": [
    "- General"
   ]
  },
  {
   "cell_type": "code",
   "execution_count": 9,
   "metadata": {},
   "outputs": [],
   "source": [
    "# Add information about the data set\n",
    "g.add((URIRef(dataset), rdf.type, dcat.Dataset))\n",
    "g.add((URIRef(dataset), dcterms.title, Literal(metrics['title'], lang=\"en\")))\n",
    "g.add((URIRef(dataset), dcat.distribution, URIRef(distribution)))"
   ]
  },
  {
   "cell_type": "code",
   "execution_count": 10,
   "metadata": {},
   "outputs": [],
   "source": [
    "# Add information about the distribution\n",
    "g.add((URIRef(distribution), rdf.type, dcat.distribution))\n",
    "g.add((URIRef(distribution), dcat.downloadURL, URIRef(metrics['url'])))\n",
    "g.add((URIRef(distribution), dcterms.title, Literal(metrics['title'], lang=\"en\")))"
   ]
  },
  {
   "cell_type": "markdown",
   "metadata": {},
   "source": [
    "- Licensing"
   ]
  },
  {
   "cell_type": "markdown",
   "metadata": {},
   "source": [
    "if metrics is licence then do:\n",
    "    "
   ]
  },
  {
   "cell_type": "code",
   "execution_count": 21,
   "metadata": {},
   "outputs": [
    {
     "data": {
      "text/plain": [
       "['Applies to: Data use = {Creative Commons Attribution-ShareAlike 3.0 Unported (CC BY-SA 3.0)}']"
      ]
     },
     "execution_count": 21,
     "metadata": {},
     "output_type": "execute_result"
    }
   ],
   "source": [
    "measurement = metrics['license']\n",
    "measurement"
   ]
  },
  {
   "cell_type": "code",
   "execution_count": null,
   "metadata": {},
   "outputs": [],
   "source": [
    "#this changes\n",
    "g.add((URIRef(distribution), dqv.hasQualityMeasurement, hcls.licensing))"
   ]
  },
  {
   "cell_type": "code",
   "execution_count": 13,
   "metadata": {},
   "outputs": [],
   "source": [
    "# Add information about the Mesurement\n",
    "g.add((hcls.licence, rdf.type, dqv.QualityMeasurement))\n",
    "g.add((hcls.licence, dqv.computedOn, URIRef(distribution))\n",
    "g.add((hcls.licence, dqv.value, Literal(measurement, lang=\"en\")))\n",
    "g.add((hcls.licence, dqv.isMeasurementOf, dqv.L2metric))"
   ]
  },
  {
   "cell_type": "code",
   "execution_count": 14,
   "metadata": {},
   "outputs": [],
   "source": [
    "# Add information about the Coverage (Metric)\n",
    "g.add((dqv.L2metric, rdf.type, dqv.QualityMeasurement))\n",
    "g.add((dqv.L2metric, skos.type, Literal(\"Detection of a license in the documentation of the dataset\", lang=\"en\")))\n",
    "g.add((dqv.L2metric, dqv.expectedDatatype, xsd.string))\n",
    "g.add((dqv.L2metric, dqv.inDimension, dqv.Licensing))"
   ]
  },
  {
   "cell_type": "code",
   "execution_count": 15,
   "metadata": {},
   "outputs": [],
   "source": [
    "# Add information about the Dimension\n",
    "g.add((dqv.Licensing, rdf.type, dqv.Dimension))\n",
    "g.add((dqv.Licensing, skos.prefLabel, Literal(\"Licensing\", lang=\"en\")))\n",
    "g.add((dqv.Licensing, skos.definition, Literal(\"Licensing is defined as the granting of permission for a consumer to re-use a dataset under defined conditions\", lang=\"en\")))\n",
    "g.add((dqv.Licensing, dqv.inCategory, dqv.Accessibility))\n",
    "g.add((dqv.Accessibility, rdf.type, dqv.Category))"
   ]
  },
  {
   "cell_type": "markdown",
   "metadata": {},
   "source": [
    "- Interoperability"
   ]
  },
  {
   "cell_type": "code",
   "execution_count": 22,
   "metadata": {},
   "outputs": [
    {
     "data": {
      "text/plain": [
       "['Chemical Entities of Biological Interest',\n",
       " 'PSI Molecular Interaction Controlled Vocabulary']"
      ]
     },
     "execution_count": 22,
     "metadata": {},
     "output_type": "execute_result"
    }
   ],
   "source": [
    "measurement = metrics['terminology artifacts']\n",
    "measurement"
   ]
  },
  {
   "cell_type": "code",
   "execution_count": 17,
   "metadata": {},
   "outputs": [],
   "source": [
    "g.add((URIRef(distribution, dqv.hasQualityMeasurement, hcls.vocabReuse))"
   ]
  },
  {
   "cell_type": "code",
   "execution_count": 19,
   "metadata": {},
   "outputs": [],
   "source": [
    "# Add information about the Mesurement\n",
    "g.add((hcls.vocabReuse, rdf.type, dqv.QualityMeasurement))\n",
    "g.add((hcls.vocabReuse, dqv.computedOn, URIRef(distribution))\n",
    "      \n",
    "g.add((hcls.vocabReuse, dqv.value, Literal(measurement[0], lang=\"en\")))\n",
    "g.add((hcls.vocabReuse, dqv.value, Literal(measurement[1], lang=\"en\")))\n",
    "g.add((hcls.vocabReuse, dqv.isMeasurementOf, dqv.IO2metric))"
   ]
  },
  {
   "cell_type": "code",
   "execution_count": 20,
   "metadata": {},
   "outputs": [],
   "source": [
    "# Add information about the Coverage (Metric)\n",
    "g.add((dqv.IO2metric, rdf.type, dqv.QualityMeasurement))\n",
    "g.add((dqv.IO2metric, skos.type, Literal(\"Re-use of existing vocabularies.\", lang=\"en\")))\n",
    "g.add((dqv.IO2metric, dqv.expectedDatatype, xsd.string))\n",
    "g.add((dqv.IO2metric, dqv.inDimension, dqv.Interoperability))"
   ]
  },
  {
   "cell_type": "code",
   "execution_count": 21,
   "metadata": {},
   "outputs": [],
   "source": [
    "# Add information about the Dimension\n",
    "g.add((dqv.Interoperability, rdf.type, dqv.Dimension))\n",
    "g.add((dqv.Interoperability, skos.prefLabel, Literal(\"Interoperability\", lang=\"en\")))\n",
    "g.add((dqv.Interoperability, skos.definition, Literal(\"Interoperability is the degree to which the format and structure of the information conforms to previously returned information as well as data from other sources.\", lang=\"en\")))\n",
    "g.add((dqv.Interoperability, dqv.inCategory, dqv.Representational))\n",
    "g.add((dqv.Representational, rdf.type, dqv.Category))"
   ]
  },
  {
   "cell_type": "markdown",
   "metadata": {},
   "source": [
    "- Relevancy"
   ]
  },
  {
   "cell_type": "code",
   "execution_count": 22,
   "metadata": {},
   "outputs": [],
   "source": [
    "# Add information about the data set\n",
    "# Done"
   ]
  },
  {
   "cell_type": "code",
   "execution_count": 23,
   "metadata": {},
   "outputs": [],
   "source": [
    "# Add information about the distribution\n",
    "# Done\n",
    "g.add((URIRef(dataset+'datasetDistribution'), dqv.hasQualityMeasurement, hcls.coverage))"
   ]
  },
  {
   "cell_type": "code",
   "execution_count": 24,
   "metadata": {},
   "outputs": [
    {
     "data": {
      "text/plain": [
       "['Approved drug', 'Biomedical Science', 'Peptide', 'Small molecule']"
      ]
     },
     "execution_count": 24,
     "metadata": {},
     "output_type": "execute_result"
    }
   ],
   "source": [
    "measurement = metrics['scope and data types']\n",
    "measurement"
   ]
  },
  {
   "cell_type": "code",
   "execution_count": 25,
   "metadata": {},
   "outputs": [],
   "source": [
    "# Add information about the Mesurement\n",
    "g.add((hcls.coverage, rdf.type, dqv.QualityMeasurement))\n",
    "g.add((hcls.coverage, dqv.computedOn, URIRef(dataset+'datasetDistribution')))\n",
    "g.add((hcls.coverage, dqv.value, Literal(measurement[0], lang=\"en\")))\n",
    "g.add((hcls.coverage, dqv.value, Literal(measurement[1], lang=\"en\")))\n",
    "g.add((hcls.coverage, dqv.value, Literal(measurement[2], lang=\"en\")))\n",
    "g.add((hcls.coverage, dqv.value, Literal(measurement[3], lang=\"en\")))\n",
    "g.add((hcls.coverage, dqv.isMeasurementOf, dqv.R2metric))"
   ]
  },
  {
   "cell_type": "code",
   "execution_count": 26,
   "metadata": {},
   "outputs": [],
   "source": [
    "# Add information about the Coverage (Metric)\n",
    "g.add((dqv.R2metric, rdf.type, dqv.QualityMeasurement))\n",
    "g.add((dqv.R2metric, skos.type, Literal(\"Coverage of scope and datatypes in the dataset.\", lang=\"en\")))\n",
    "g.add((dqv.R2metric, dqv.expectedDatatype, xsd.string))\n",
    "g.add((dqv.R2metric, dqv.inDimension, dqv.Relevancy))"
   ]
  },
  {
   "cell_type": "code",
   "execution_count": 27,
   "metadata": {},
   "outputs": [],
   "source": [
    "# Add information about the Dimension\n",
    "g.add((dqv.Relevancy, rdf.type, dqv.Dimension))\n",
    "g.add((dqv.Relevancy, skos.prefLabel, Literal(\"Relevancy\", lang=\"en\")))\n",
    "g.add((dqv.Relevancy, skos.definition, Literal(\"Relevancy refers to the provision of information which is in accordance with the task at hand and important to the users query\", lang=\"en\")))\n",
    "g.add((dqv.Relevancy, dqv.inCategory, dqv.Contextual))\n",
    "g.add((dqv.Contextual, rdf.type, dqv.Category))"
   ]
  },
  {
   "cell_type": "code",
   "execution_count": null,
   "metadata": {},
   "outputs": [],
   "source": []
  },
  {
   "cell_type": "code",
   "execution_count": 29,
   "metadata": {},
   "outputs": [],
   "source": [
    "g.serialize(destination='test.ttl')"
   ]
  },
  {
   "cell_type": "code",
   "execution_count": 30,
   "metadata": {},
   "outputs": [],
   "source": [
    "g.serialize(destination='test.html')"
   ]
  },
  {
   "cell_type": "code",
   "execution_count": null,
   "metadata": {},
   "outputs": [],
   "source": [
    "#reates and adds a new measurement to the graph\n",
    "#:param measurement_label: A unique label for the measurement. Leave empty for auto naming.\n",
    "#:return: The new measurement node\n",
    "if len(measurement_label) == 0:\n",
    "    # Create a new measurement label\n",
    "    n_measurements += 1\n",
    "    measurement_label = 'measurement' + '%04d' % n_measurements"
   ]
  },
  {
   "cell_type": "code",
   "execution_count": null,
   "metadata": {},
   "outputs": [],
   "source": []
  },
  {
   "cell_type": "code",
   "execution_count": null,
   "metadata": {},
   "outputs": [],
   "source": [
    "def serialize(self, file, format='ttl'):\n",
    "    \"\"\"Writes the RDF graph to file in the specified format\n",
    "\n",
    "    :param file: Path to the file to write to (String)\n",
    "    :param format: RDF format (default: 'ttl')\n",
    "    :return:\n",
    "    \"\"\"\n",
    "    try:\n",
    "        # Write out turtle file\n",
    "        self.g.serialize(destination=file, format=format)\n",
    "\n",
    "        # Output message\n",
    "        if config.verbose:\n",
    "            print('Preliminary statistics in W3C DQV written to: ' + file)\n",
    "    except IOError:\n",
    "        sys.stderr.write('Error while trying to serialize preliminary stats RDF graph to file: ' + file + '\\n')"
   ]
  },
  {
   "cell_type": "markdown",
   "metadata": {},
   "source": [
    "## Testing"
   ]
  },
  {
   "cell_type": "code",
   "execution_count": null,
   "metadata": {},
   "outputs": [],
   "source": [
    "# FAIRsharing.org URLs to test\n",
    "urls = ['https://biosharing.org/biodbcore-000015',\n",
    "        'https://biosharing.org/biodbcore-000037',\n",
    "        'https://biosharing.org/biodbcore-000081',\n",
    "        'https://biosharing.org/biodbcore-000095',\n",
    "        'https://biosharing.org/biodbcore-000104',\n",
    "        'https://biosharing.org/biodbcore-000137',\n",
    "        'https://biosharing.org/biodbcore-000155',\n",
    "        'https://biosharing.org/biodbcore-000156',\n",
    "        'https://biosharing.org/biodbcore-000173',\n",
    "        'https://biosharing.org/biodbcore-000304',\n",
    "        'https://biosharing.org/biodbcore-000329',\n",
    "        'https://biosharing.org/biodbcore-000330',\n",
    "        'https://biosharing.org/biodbcore-000341',\n",
    "        'https://biosharing.org/biodbcore-000417',\n",
    "        'https://biosharing.org/biodbcore-000438',\n",
    "        'https://biosharing.org/biodbcore-000441',\n",
    "        'https://biosharing.org/biodbcore-000455',\n",
    "        'https://biosharing.org/biodbcore-000470',\n",
    "        'https://biosharing.org/biodbcore-000495',\n",
    "        'https://biosharing.org/biodbcore-000525',\n",
    "        'https://biosharing.org/biodbcore-000544',\n",
    "        'https://biosharing.org/biodbcore-000552',\n",
    "        'https://biosharing.org/biodbcore-000663',\n",
    "        'https://biosharing.org/biodbcore-000730',\n",
    "        'https://biosharing.org/biodbcore-000805',\n",
    "        'https://biosharing.org/biodbcore-000826',\n",
    "        'https://biosharing.org/biodbcore-000842',\n",
    "        'https://fairsharing.org/biodbcore-000618',\n",
    "        'https://fairsharing.org/biodbcore-000340']\n",
    "\n",
    "# Write the results to the configured output folder\n",
    "dir_output = config.path_output\n",
    "if not os.path.exists(dir_output):\n",
    "    os.mkdir(dir_output)\n",
    "\n",
    "# List of preliminary statistics results\n",
    "stats_list = []\n",
    "\n",
    "# Process each url\n",
    "for url in urls:\n",
    "    # Scrape the page\n",
    "    stats = fair_scraper.fair_scraper(url)\n",
    "    stats_list.append(stats)\n",
    "\n",
    "    # Output filename based on url\n",
    "    filename = url.split('/')[-1] + '_rdf.ttl'\n",
    "    output_file = os.path.join(dir_output, filename)\n",
    "\n",
    "    # Use the dataset title as the local identifier\n",
    "    dataset_id = \"\".join([c for c in stats.title if c.isalnum()]) + 'Dataset'\n",
    "\n",
    "    # Write out preliminary statistics using W3C DQV\n",
    "    stats_rdf = prelim_stats_rdf.PrelimStatsRDF(dataset_id, stats)\n",
    "    stats_rdf.serialize(output_file, format='ttl')\n",
    "\n",
    "# Run the scraper and write the results to CSV\n",
    "file_output = os.path.join(dir_output, 'FAIRsharing_table.csv')\n",
    "#fair_scraper.fair_table(stats_list, file_output)"
   ]
  },
  {
   "cell_type": "code",
   "execution_count": null,
   "metadata": {},
   "outputs": [],
   "source": []
  },
  {
   "cell_type": "code",
   "execution_count": null,
   "metadata": {},
   "outputs": [],
   "source": []
  }
 ],
 "metadata": {
  "kernelspec": {
   "display_name": "Python 3",
   "language": "python",
   "name": "python3"
  },
  "language_info": {
   "codemirror_mode": {
    "name": "ipython",
    "version": 3
   },
   "file_extension": ".py",
   "mimetype": "text/x-python",
   "name": "python",
   "nbconvert_exporter": "python",
   "pygments_lexer": "ipython3",
   "version": "3.5.4"
  }
 },
 "nbformat": 4,
 "nbformat_minor": 2
}
