{
 "cells": [
  {
   "cell_type": "markdown",
   "metadata": {},
   "source": [
    "## FAIRSharing metrics\n",
    "\n",
    "Write out dataset data quality metrics in RDF using W3C data vocabulary.  \n",
    "Converting preliminary statistics to W3C DQV"
   ]
  },
  {
   "cell_type": "code",
   "execution_count": 1,
   "metadata": {},
   "outputs": [],
   "source": [
    "from rdflib import Graph, Literal, URIRef, Namespace, RDF\n",
    "from rdflib.namespace import DCTERMS, XSD"
   ]
  },
  {
   "cell_type": "code",
   "execution_count": 2,
   "metadata": {},
   "outputs": [],
   "source": [
    "import json"
   ]
  },
  {
   "cell_type": "code",
   "execution_count": 1,
   "metadata": {},
   "outputs": [],
   "source": [
    "%load_ext watermark"
   ]
  },
  {
   "cell_type": "code",
   "execution_count": 4,
   "metadata": {},
   "outputs": [
    {
     "name": "stdout",
     "output_type": "stream",
     "text": [
      "Maastricht University Fri Mar 02 2018 \n",
      "\n",
      "CPython 3.5.4\n",
      "IPython 6.2.1\n",
      "\n",
      "rdflib 4.2.2\n",
      "pandas 0.22.0\n",
      "\n",
      "compiler   : GCC 4.2.1 Compatible Clang 4.0.1 (tags/RELEASE_401/final)\n",
      "system     : Darwin\n",
      "release    : 17.4.0\n",
      "machine    : x86_64\n",
      "processor  : i386\n",
      "CPU cores  : 4\n",
      "interpreter: 64bit\n"
     ]
    }
   ],
   "source": [
    "%watermark -a 'Maastricht University' -nmv --packages rdflib,pandas"
   ]
  },
  {
   "cell_type": "code",
   "execution_count": 3,
   "metadata": {},
   "outputs": [],
   "source": [
    "#!python scrapper.py\n",
    "#!conda install -c conda-forge rdflib -y\n",
    "#do it once"
   ]
  },
  {
   "cell_type": "code",
   "execution_count": 20,
   "metadata": {},
   "outputs": [],
   "source": [
    "#THE SCRAPPER HAS TO BE A MODULE WHERE I CAN DEFINE THE URL EN GET THE METHOD"
   ]
  },
  {
   "cell_type": "code",
   "execution_count": 4,
   "metadata": {},
   "outputs": [],
   "source": [
    "metrics = json.loads(open('metrics.json').read())\n",
    "catalog = json.loads(open('downloadURL.json').read())\n",
    "details = json.loads(open('details.json').read())"
   ]
  },
  {
   "cell_type": "code",
   "execution_count": 5,
   "metadata": {},
   "outputs": [],
   "source": [
    "# Define namespaces\n",
    "dqv = Namespace(\"http://www.w3.org/ns/dqv#\")\n",
    "hcls = Namespace(\"http://www.w3.org/hcls#\")\n",
    "bio2rdf = Namespace(\"http://bio2rdf.org#\")\n",
    "skos = Namespace(\"http://www.w3.org/2004/02/skos/core#\")\n",
    "xsd = Namespace(\"http://www.w3.org/2001/XMLSchema#\")\n",
    "prov = Namespace(\"https://www.w3.org/ns/prov#\")\n",
    "dcat = Namespace(\"http://www.w3.org/ns/dcat#\")\n",
    "rdf = Namespace(\"http://www.w3.org/1999/02/22-rdf-syntax-ns#\")\n",
    "dcterms = Namespace(\"http://purl.org/dc/terms/\")"
   ]
  },
  {
   "cell_type": "code",
   "execution_count": 6,
   "metadata": {},
   "outputs": [],
   "source": [
    "g = Graph()"
   ]
  },
  {
   "cell_type": "code",
   "execution_count": 7,
   "metadata": {},
   "outputs": [],
   "source": [
    "dataset = catalog[str(metrics['url'])]\n",
    "distribution = dataset + 'datasetDistribution'"
   ]
  },
  {
   "cell_type": "code",
   "execution_count": 21,
   "metadata": {},
   "outputs": [],
   "source": [
    "# THE MODULE NEEDS A CONDITION HERE TO DO EVERYTHING IF THE MEASUREMENT EXIST"
   ]
  },
  {
   "cell_type": "code",
   "execution_count": 8,
   "metadata": {},
   "outputs": [
    {
     "data": {
      "text/plain": [
       "['vocabReuse', 'license', 'coverage']"
      ]
     },
     "execution_count": 8,
     "metadata": {},
     "output_type": "execute_result"
    }
   ],
   "source": [
    "#metrics_names = [i for i in metrics.keys()]\n",
    "#I've to make a condition to break when other metrics are not used\n",
    "metrics_names = ['vocabReuse', 'license', 'coverage'] # if url or title skip\n",
    "metrics_names"
   ]
  },
  {
   "cell_type": "code",
   "execution_count": 9,
   "metadata": {},
   "outputs": [],
   "source": [
    "# Add information about the data set\n",
    "g.add((URIRef(dataset), rdf.type, dcat.Dataset))\n",
    "g.add((URIRef(dataset), dcterms.title, Literal(metrics['title'], lang=\"en\")))\n",
    "g.add((URIRef(dataset), dcat.distribution, URIRef(distribution)))"
   ]
  },
  {
   "cell_type": "code",
   "execution_count": 10,
   "metadata": {},
   "outputs": [],
   "source": [
    "# Add information about the distribution\n",
    "g.add((URIRef(distribution), rdf.type, dcat.distribution))\n",
    "g.add((URIRef(distribution), dcat.downloadURL, URIRef(metrics['url'])))\n",
    "g.add((URIRef(distribution), dcterms.title, Literal(metrics['title'], lang=\"en\")))"
   ]
  },
  {
   "cell_type": "code",
   "execution_count": 18,
   "metadata": {},
   "outputs": [],
   "source": [
    "for metric in metrics_names:\n",
    "    measurement = hcls+str(metric)\n",
    "    measure_value = metrics[str(metric)]\n",
    "    dqv_metric = dqv+details[str(metric)]['DQVmetric']\n",
    "    skos_type = details[str(metric)]['SKOStype']\n",
    "    dqv_dimension = dqv+details[str(metric)]['DQVdimension']\n",
    "    skos_label =  details[str(metric)]['DQVdimension']\n",
    "    skos_definition = details[str(metric)]['SKOSdefinition']\n",
    "    dqv_category = dqv + details[str(metric)]['DQVcategory']\n",
    "    # Add information about the Measurement\n",
    "    g.add((URIRef(distribution), dqv.hasQualityMeasurement, URIRef(measurement)))\n",
    "    g.add((URIRef(measurement), rdf.type, dqv.QualityMeasurement))\n",
    "    g.add((URIRef(measurement), dqv.computedOn, URIRef(distribution)))\n",
    "    g.add((URIRef(measurement), dqv.isMeasurementOf, URIRef(dqv_metric)))\n",
    "    # Add information about the Metric\n",
    "    g.add((URIRef(dqv_metric), rdf.type, dqv.QualityMeasurement))\n",
    "    g.add((URIRef(dqv_metric), skos.type, Literal(skos_type, lang=\"en\")))\n",
    "    g.add((URIRef(dqv_metric), dqv.expectedDatatype, xsd.string))\n",
    "    g.add((URIRef(dqv_metric), dqv.inDimension, URIRef(dqv_dimension)))\n",
    "    # Add information about the Dimension\n",
    "    g.add((URIRef(dqv_dimension), rdf.type, dqv.Dimension))\n",
    "    g.add((URIRef(dqv_dimension), skos.prefLabel, Literal(skos_label, lang=\"en\")))\n",
    "    g.add((URIRef(dqv_dimension), skos.definition, Literal(skos_definition, lang=\"en\")))\n",
    "    g.add((URIRef(dqv_dimension), dqv.inCategory, URIRef(dqv_category)))\n",
    "    g.add((URIRef(dqv_category), rdf.type, dqv.Category))\n",
    "    for value in measure_value:\n",
    "        g.add((URIRef(measurement), dqv.value, Literal(value, lang=\"en\")))"
   ]
  },
  {
   "cell_type": "code",
   "execution_count": 19,
   "metadata": {},
   "outputs": [],
   "source": [
    "g.serialize(destination='test.ttl')"
   ]
  },
  {
   "cell_type": "code",
   "execution_count": 30,
   "metadata": {},
   "outputs": [],
   "source": [
    "#g.serialize(destination='test.html')"
   ]
  },
  {
   "cell_type": "code",
   "execution_count": null,
   "metadata": {},
   "outputs": [],
   "source": [
    "#reates and adds a new measurement to the graph\n",
    "#:param measurement_label: A unique label for the measurement. Leave empty for auto naming.\n",
    "#:return: The new measurement node\n",
    "if len(measurement_label) == 0:\n",
    "    # Create a new measurement label\n",
    "    n_measurements += 1\n",
    "    measurement_label = 'measurement' + '%04d' % n_measurements"
   ]
  },
  {
   "cell_type": "code",
   "execution_count": null,
   "metadata": {},
   "outputs": [],
   "source": []
  },
  {
   "cell_type": "code",
   "execution_count": null,
   "metadata": {},
   "outputs": [],
   "source": [
    "def serialize(self, file, format='ttl'):\n",
    "    \"\"\"Writes the RDF graph to file in the specified format\n",
    "\n",
    "    :param file: Path to the file to write to (String)\n",
    "    :param format: RDF format (default: 'ttl')\n",
    "    :return:\n",
    "    \"\"\"\n",
    "    try:\n",
    "        # Write out turtle file\n",
    "        self.g.serialize(destination=file, format=format)\n",
    "\n",
    "        # Output message\n",
    "        if config.verbose:\n",
    "            print('Preliminary statistics in W3C DQV written to: ' + file)\n",
    "    except IOError:\n",
    "        sys.stderr.write('Error while trying to serialize preliminary stats RDF graph to file: ' + file + '\\n')"
   ]
  },
  {
   "cell_type": "markdown",
   "metadata": {},
   "source": [
    "## Testing"
   ]
  },
  {
   "cell_type": "code",
   "execution_count": null,
   "metadata": {},
   "outputs": [],
   "source": [
    "# I NEED A CONDITION THAT SAYS THE DOWNLOAD URL IS NOT IN THE CATALOG"
   ]
  },
  {
   "cell_type": "code",
   "execution_count": null,
   "metadata": {},
   "outputs": [],
   "source": [
    "# FAIRsharing.org URLs to test\n",
    "urls = ['https://biosharing.org/biodbcore-000015',\n",
    "        'https://biosharing.org/biodbcore-000037',\n",
    "        'https://biosharing.org/biodbcore-000081',\n",
    "        'https://biosharing.org/biodbcore-000095',\n",
    "        'https://biosharing.org/biodbcore-000104',\n",
    "        'https://biosharing.org/biodbcore-000137',\n",
    "        'https://biosharing.org/biodbcore-000155',\n",
    "        'https://biosharing.org/biodbcore-000156',\n",
    "        'https://biosharing.org/biodbcore-000173',\n",
    "        'https://biosharing.org/biodbcore-000304',\n",
    "        'https://biosharing.org/biodbcore-000329',\n",
    "        'https://biosharing.org/biodbcore-000330',\n",
    "        'https://biosharing.org/biodbcore-000341',\n",
    "        'https://biosharing.org/biodbcore-000417',\n",
    "        'https://biosharing.org/biodbcore-000438',\n",
    "        'https://biosharing.org/biodbcore-000441',\n",
    "        'https://biosharing.org/biodbcore-000455',\n",
    "        'https://biosharing.org/biodbcore-000470',\n",
    "        'https://biosharing.org/biodbcore-000495',\n",
    "        'https://biosharing.org/biodbcore-000525',\n",
    "        'https://biosharing.org/biodbcore-000544',\n",
    "        'https://biosharing.org/biodbcore-000552',\n",
    "        'https://biosharing.org/biodbcore-000663',\n",
    "        'https://biosharing.org/biodbcore-000730',\n",
    "        'https://biosharing.org/biodbcore-000805',\n",
    "        'https://biosharing.org/biodbcore-000826',\n",
    "        'https://biosharing.org/biodbcore-000842',\n",
    "        'https://fairsharing.org/biodbcore-000618',\n",
    "        'https://fairsharing.org/biodbcore-000340']\n",
    "\n",
    "# Write the results to the configured output folder\n",
    "dir_output = config.path_output\n",
    "if not os.path.exists(dir_output):\n",
    "    os.mkdir(dir_output)\n",
    "\n",
    "# List of preliminary statistics results\n",
    "stats_list = []\n",
    "\n",
    "# Process each url\n",
    "for url in urls:\n",
    "    # Scrape the page\n",
    "    stats = fair_scraper.fair_scraper(url)\n",
    "    stats_list.append(stats)\n",
    "\n",
    "    # Output filename based on url\n",
    "    filename = url.split('/')[-1] + '_rdf.ttl'\n",
    "    output_file = os.path.join(dir_output, filename)\n",
    "\n",
    "    # Use the dataset title as the local identifier\n",
    "    dataset_id = \"\".join([c for c in stats.title if c.isalnum()]) + 'Dataset'\n",
    "\n",
    "    # Write out preliminary statistics using W3C DQV\n",
    "    stats_rdf = prelim_stats_rdf.PrelimStatsRDF(dataset_id, stats)\n",
    "    stats_rdf.serialize(output_file, format='ttl')\n",
    "\n",
    "# Run the scraper and write the results to CSV\n",
    "file_output = os.path.join(dir_output, 'FAIRsharing_table.csv')\n",
    "#fair_scraper.fair_table(stats_list, file_output)"
   ]
  },
  {
   "cell_type": "code",
   "execution_count": null,
   "metadata": {},
   "outputs": [],
   "source": []
  },
  {
   "cell_type": "code",
   "execution_count": null,
   "metadata": {},
   "outputs": [],
   "source": []
  }
 ],
 "metadata": {
  "kernelspec": {
   "display_name": "Python 3",
   "language": "python",
   "name": "python3"
  },
  "language_info": {
   "codemirror_mode": {
    "name": "ipython",
    "version": 3
   },
   "file_extension": ".py",
   "mimetype": "text/x-python",
   "name": "python",
   "nbconvert_exporter": "python",
   "pygments_lexer": "ipython3",
   "version": "3.5.4"
  }
 },
 "nbformat": 4,
 "nbformat_minor": 2
}
