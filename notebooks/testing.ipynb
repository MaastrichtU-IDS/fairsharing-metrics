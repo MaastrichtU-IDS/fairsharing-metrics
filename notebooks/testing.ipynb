{
 "cells": [
  {
   "cell_type": "markdown",
   "metadata": {},
   "source": [
    "## Fair Scraper"
   ]
  },
  {
   "cell_type": "code",
   "execution_count": 2,
   "metadata": {},
   "outputs": [],
   "source": [
    "\"\"\"\n",
    "Scrapes information from FAIRsharing.org\n",
    "\"\"\"\n",
    "import os\n",
    "import requests\n",
    "from lxml import html\n",
    "import pandas as pd\n",
    "import json\n",
    "#from ncats_translator_dqa import config"
   ]
  },
  {
   "cell_type": "markdown",
   "metadata": {},
   "source": [
    "## FAIRSharing metrics"
   ]
  },
  {
   "cell_type": "code",
   "execution_count": 2,
   "metadata": {},
   "outputs": [],
   "source": [
    "from rdflib import Graph, Literal, URIRef, Namespace, RDF\n",
    "from rdflib.namespace import DCTERMS, XSD"
   ]
  },
  {
   "cell_type": "code",
   "execution_count": 8,
   "metadata": {},
   "outputs": [],
   "source": [
    "import json"
   ]
  },
  {
   "cell_type": "code",
   "execution_count": 13,
   "metadata": {},
   "outputs": [],
   "source": [
    "metrics = json.loads(open('metrics.json').read())"
   ]
  },
  {
   "cell_type": "code",
   "execution_count": 21,
   "metadata": {},
   "outputs": [
    {
     "data": {
      "text/plain": [
       "{'license': ['Applies to: Data use = {Creative Commons Attribution-ShareAlike 3.0 Unported (CC BY-SA 3.0)}'],\n",
       " 'scope and data types': ['Approved drug',\n",
       "  'Biomedical Science',\n",
       "  'Peptide',\n",
       "  'Small molecule'],\n",
       " 'terminology artifacts': ['Chemical Entities of Biological Interest',\n",
       "  'PSI Molecular Interaction Controlled Vocabulary'],\n",
       " 'title': 'ChEMBL: a large-scale bioactivity database for drug discovery',\n",
       " 'url': 'https://fairsharing.org/biodbcore-000015'}"
      ]
     },
     "execution_count": 21,
     "metadata": {},
     "output_type": "execute_result"
    }
   ],
   "source": [
    "metrics"
   ]
  },
  {
   "cell_type": "code",
   "execution_count": 3,
   "metadata": {},
   "outputs": [],
   "source": [
    "#!conda install -c conda-forge rdflib -y\n",
    "#do it once"
   ]
  },
  {
   "cell_type": "markdown",
   "metadata": {},
   "source": [
    "Write out dataset data quality metrics in RDF using W3C data vocabulary.\n",
    "\n",
    "            :param dataset_id: ID to be used in URI for this data set (String)\n",
    "            :param fps: FAIRsharing preliminary stats (FAIRPrelimStats) [optional]\n",
    "            :param down_url: Download URL of dataset (String) [optional]\n",
    "            :param byte_size: Size of dataset in bytes [optional]\n",
    "            :return: None\n",
    "\n",
    "Converting preliminary statistics to W3C DQV"
   ]
  },
  {
   "cell_type": "code",
   "execution_count": 29,
   "metadata": {},
   "outputs": [],
   "source": [
    "# Define namespaces\n",
    "#ns_local = Namespace(\"http://ncats.nih.gov/\")\n",
    "dqv = Namespace(\"http://www.w3.org/ns/dqv#\")\n",
    "hcls = Namespace(\"http://www.w3.org/hcls#\")\n",
    "bio2rdf = Namespace(\"http://bio2rdf.org#\")\n",
    "skos = Namespace(\"http://www.w3.org/2004/02/skos/core#\")\n",
    "xsd = Namespace(\"http://www.w3.org/2001/XMLSchema#\")\n",
    "prov = Namespace(\"https://www.w3.org/ns/prov#\")\n",
    "dcat = Namespace(\"http://www.w3.org/ns/dcat#\")\n",
    "rdf = Namespace(\"http://www.w3.org/1999/02/22-rdf-syntax-ns#\")\n",
    "dcterms = Namespace(\"http://purl.org/dc/terms/\")"
   ]
  },
  {
   "cell_type": "code",
   "execution_count": 30,
   "metadata": {},
   "outputs": [],
   "source": [
    "g = Graph()"
   ]
  },
  {
   "cell_type": "code",
   "execution_count": 33,
   "metadata": {},
   "outputs": [],
   "source": [
    "dataset = \"http://bio2rdf.org#CHEMBL\"\n",
    "#this is linked to metrics['url']"
   ]
  },
  {
   "cell_type": "code",
   "execution_count": null,
   "metadata": {},
   "outputs": [],
   "source": []
  },
  {
   "cell_type": "markdown",
   "metadata": {},
   "source": [
    "- Licensing"
   ]
  },
  {
   "cell_type": "code",
   "execution_count": 38,
   "metadata": {},
   "outputs": [],
   "source": [
    "# Add information about the data set\n",
    "g.add((URIRef(dataset), rdf.type, dcat.Dataset))\n",
    "g.add((URIRef(dataset), dcterms.title, Literal(metrics['title'], lang=\"en\")))\n",
    "g.add((URIRef(dataset), dcat.distribution, URIRef(dataset+'datasetDistribution')))"
   ]
  },
  {
   "cell_type": "code",
   "execution_count": 42,
   "metadata": {},
   "outputs": [],
   "source": [
    "# Add information about the distribution\n",
    "#distribution = dataset+'datasetDistribution' \n",
    "g.add((URIRef(dataset+'datasetDistribution'), rdf.type, dcat.distribution))\n",
    "g.add((URIRef(dataset+'datasetDistribution'), dcat.downloadURL, URIRef(metrics['url'])))\n",
    "g.add((URIRef(dataset+'datasetDistribution'), dcterms.title, Literal(metrics['title'], lang=\"en\")))\n",
    "g.add((URIRef(dataset+'datasetDistribution'), dcat.mediaType, Literal(\"application/rdf\"))) #we keep this?\n",
    "#g.add((URIRef(dataset+'datasetDistribution'), dcat.byteSize, Literal(str(byte_size), datatype=xsd.decimal))) #we keep this?\n",
    "g.add((URIRef(dataset+'datasetDistribution'), dqv.hasQualityMeasurement, hcls.licensing))"
   ]
  },
  {
   "cell_type": "code",
   "execution_count": null,
   "metadata": {},
   "outputs": [],
   "source": [
    "# Add information about the metrics\n",
    "# Add license\n",
    "\n",
    "# should be something like for i in measurement\n",
    "g.add((measurement, ns_dqv.isMeasurementOf, ns_local.licensingMetric))\n",
    "g.add((measurement, ns_dqv.value, Literal(license_string, datatype=XSD.string)))"
   ]
  },
  {
   "cell_type": "code",
   "execution_count": null,
   "metadata": {},
   "outputs": [],
   "source": []
  },
  {
   "cell_type": "code",
   "execution_count": null,
   "metadata": {},
   "outputs": [],
   "source": [
    "# Add information on scopes and data types\n",
    "g.add((measurement, ns_dqv.isMeasurementOf, ns_local.scopeAndDatatypesMetric))\n",
    "g.add((measurement, ns_dqv.value, Literal(sad, datatype=XSD.string)))"
   ]
  },
  {
   "cell_type": "code",
   "execution_count": null,
   "metadata": {},
   "outputs": [],
   "source": [
    "# Add information on terminology artifacts\n",
    "#for ta in tas:\n",
    "g.add((measurement, ns_dqv.isMeasurementOf, ns_local.terminologyArtifactsMetric))\n",
    "g.add((measurement, ns_dqv.value, Literal(ta, datatype=XSD.string)))"
   ]
  },
  {
   "cell_type": "code",
   "execution_count": null,
   "metadata": {},
   "outputs": [],
   "source": []
  },
  {
   "cell_type": "code",
   "execution_count": null,
   "metadata": {},
   "outputs": [],
   "source": []
  },
  {
   "cell_type": "code",
   "execution_count": 41,
   "metadata": {},
   "outputs": [
    {
     "name": "stdout",
     "output_type": "stream",
     "text": [
      "(rdflib.term.URIRef('http://bio2rdf.org#CHEMBL'), rdflib.term.URIRef('http://www.w3.org/1999/02/22-rdf-syntax-ns#type'), rdflib.term.URIRef('http://www.w3.org/ns/dcat#Dataset'))\n",
      "(rdflib.term.URIRef('http://bio2rdf.org#CHEMBL'), rdflib.term.URIRef('http://purl.org/dc/terms/title'), rdflib.term.Literal('ChEMBL: a large-scale bioactivity database for drug discovery', lang='en'))\n",
      "(rdflib.term.URIRef('http://bio2rdf.org#CHEMBLdatasetDistribution'), rdflib.term.URIRef('http://purl.org/dc/terms/title'), rdflib.term.Literal('ChEMBL: a large-scale bioactivity database for drug discovery', lang='en'))\n",
      "(rdflib.term.URIRef('http://bio2rdf.org#CHEMBL'), rdflib.term.URIRef('http://www.w3.org/ns/dcat#distribution'), rdflib.term.URIRef('http://bio2rdf.org#CHEMBLdatasetDistribution'))\n",
      "(rdflib.term.URIRef('http://bio2rdf.org#CHEMBLdatasetDistribution'), rdflib.term.URIRef('http://www.w3.org/ns/dqv#hasQualityMeasurement'), rdflib.term.URIRef('http://www.w3.org/hcls#coverage'))\n",
      "(rdflib.term.URIRef('http://bio2rdf.org#CHEMBLdatasetDistribution'), rdflib.term.URIRef('http://www.w3.org/ns/dcat#downloadURL'), rdflib.term.URIRef('https://fairsharing.org/biodbcore-000015'))\n",
      "(rdflib.term.URIRef('http://bio2rdf.org#CHEMBLdatasetDistribution'), rdflib.term.URIRef('http://www.w3.org/1999/02/22-rdf-syntax-ns#type'), rdflib.term.URIRef('http://www.w3.org/ns/dcat#distribution'))\n"
     ]
    }
   ],
   "source": [
    "for i in g:\n",
    "    print (i)"
   ]
  },
  {
   "cell_type": "code",
   "execution_count": 120,
   "metadata": {},
   "outputs": [],
   "source": [
    "# Set the download URL ()\n",
    "# https://www.w3.org/TR/prov-o/#wasDerivedFrom\n",
    "dataset = 'https://fairsharing.org/biodbcore-000015' #object\n",
    "wasDerive = 'https://www.w3.org/TR/prov-o/#wasDerivedFrom' #predicate\n",
    "source = 'https://fairsharing.org/biodbcore-000015' #subject\n",
    "#self.add_download_url(down_url)\n",
    "#Adds dcat:downloadURL to distribution\n",
    "#        :param url: URL to the data set download (String)\n",
    "#if len(url) > 0:\n",
    "    #g.add((dataset, wasDerive, URIRef(source)))"
   ]
  },
  {
   "cell_type": "code",
   "execution_count": 113,
   "metadata": {},
   "outputs": [],
   "source": []
  },
  {
   "cell_type": "code",
   "execution_count": 1,
   "metadata": {},
   "outputs": [],
   "source": [
    "# Measurement count, counter\n",
    "n_measurements = 0"
   ]
  },
  {
   "cell_type": "markdown",
   "metadata": {},
   "source": [
    "## We have metrics\n",
    "\n",
    "\n",
    "- Interoperability\n",
    "- Relevancy"
   ]
  },
  {
   "cell_type": "markdown",
   "metadata": {},
   "source": [
    "### Dataset\n",
    "<http://bio2rdf.org#CHEMBL>\t<http://www.w3.org/1999/02/22-rdf-syntax-ns#type>\t<http://www.w3.org/ns/dcat#Dataset> .\n",
    "chembl is type dataset\n",
    "<http://bio2rdf.org#CHEMBL>\t<http://purl.org/dc/terms/title>\t\"CHEMBL: a large-scale bioactivity...\"@en .\n",
    "chembl has title *title\n",
    "<http://bio2rdf.org#CHEMBL>\t<http://www.w3.org/ns/dcat#distribution>\t<http://bio2rdf.org#CHEMBLdatasetDistribution> .\n",
    "chembl has distribution *http://bio2rdf.org#CHEMBLDistribution\n",
    "\n",
    "### Distribution\n",
    "<http://bio2rdf.org#CHEMBLdatasetDistribution>\t<http://www.w3.org/1999/02/22-rdf-syntax-ns#type>\t<http://www.w3.org/ns/dcat#Distribution> .\n",
    "chembl distribution is type dcat:Distributio\n",
    "<http://bio2rdf.org#CHEMBLdatasetDistribution>\t<http://www.w3.org/ns/dcat#downloadURL>\t\"https://fairsharing.org/biodbcore-000015\"@en .  #register the parent\n",
    "source https://fairsharing.org/biodbcore-000015\n",
    "<http://bio2rdf.org#CHEMBLdatasetDistribution>\t<http://purl.org/dc/terms/title>\t\"CHEMBL dataset\" .\n",
    "chamble distribution has title \"CHEMBL dataset\"@en.\n",
    "<http://bio2rdf.org#CHEMBLdatasetDistribution>\t<http://www.w3.org/ns/dqv#hasQualityMeasurement>\t<http://www.w3.org/hcls#coverage> .\n",
    "\n",
    "### Mesurement N\n",
    "<http://www.w3.org/hcls#coverage>\t<http://www.w3.org/1999/02/22-rdf-syntax-ns#type>\t<http://www.w3.org/ns/dqv#QualityMeasurement> .\n",
    "<http://www.w3.org/hcls#coverage>\t<http://www.w3.org/ns/dqv#computedOn>\t<http://bio2rdf.org#CHEMBLdatasetDistribution> . # registring the parent\n",
    "<http://www.w3.org/hcls#coverage>\t<http://www.w3.org/ns/dqv#value>\t\"Approved Drug\"@en .\n",
    "<http://www.w3.org/hcls#coverage>\t<http://www.w3.org/ns/dqv#value>\t\"Biomedical Science\"@en .\n",
    "<http://www.w3.org/hcls#coverage>\t<http://www.w3.org/ns/dqv#value>\t\"Peptide\"@en .\n",
    "<http://www.w3.org/hcls#coverage>\t<http://www.w3.org/ns/dqv#value>\t\"Small Molecule\"@en .\n",
    "<http://www.w3.org/hcls#coverage>\t<http://www.w3.org/ns/dqv#isMeasurementOf>\t<http://www.w3.org/ns/dqv#R2metric> .\n",
    "\n",
    "### Coverage (Metric)\n",
    "<http://www.w3.org/ns/dqv#R2metric>\t<http://www.w3.org/1999/02/22-rdf-syntax-ns#type>\t<http://www.w3.org/ns/dqv#Metric> .\n",
    "<http://www.w3.org/ns/dqv#R2metric>\t<http://www.w3.org/2004/02/skos/core#definition>\t\"Coverage of scope and datatypes in the dataset.\"@en .\n",
    "<http://www.w3.org/ns/dqv#R2metric>\t<http://www.w3.org/ns/dqv#expectedDatatype>\t<http://www.w3.org/2001/XMLSchema#string> .\n",
    "<http://www.w3.org/ns/dqv#R2metric>\t<http://www.w3.org/ns/dqv#inDimension>\t<http://www.w3.org/ns/dqv#Relevancy> . #HERE \n",
    "This metric is in dimension relevancy\n",
    "\n",
    "\n",
    "### Dimension\n",
    "<http://www.w3.org/ns/dqv#Relevancy>\t<http://www.w3.org/1999/02/22-rdf-syntax-ns#type>\t<http://www.w3.org/ns/dqv#Dimension> .\n",
    "<http://www.w3.org/ns/dqv#Relevancy>\t<http://www.w3.org/2004/02/skos/core#prefLabel>\t\"Relevancy\" . #just like putting a nice name\n",
    "<http://www.w3.org/ns/dqv#Relevancy>\t<http://www.w3.org/2004/02/skos/core#definition>\t\"Relevancy refers to the provision of information which is in accordance with the task at hand and important to the users’ query\"@en .\n",
    "<http://www.w3.org/ns/dqv#Relevancy>\t<http://www.w3.org/ns/dqv#inCategory>\t<http://www.w3.org/ns/dqv#Contextual> . #this is linked to the next one and viceversa\n",
    "<http://www.w3.org/ns/dqv#Contextual> <http://www.w3.org/1999/02/22-rdf-syntax-ns#type>\t<http://www.w3.org/ns/dqv#Category> .\n",
    "\n"
   ]
  },
  {
   "cell_type": "code",
   "execution_count": null,
   "metadata": {},
   "outputs": [],
   "source": []
  },
  {
   "cell_type": "code",
   "execution_count": null,
   "metadata": {},
   "outputs": [],
   "source": [
    "#reates and adds a new measurement to the graph\n",
    "#:param measurement_label: A unique label for the measurement. Leave empty for auto naming.\n",
    "#:return: The new measurement node\n",
    "if len(measurement_label) == 0:\n",
    "    # Create a new measurement label\n",
    "    n_measurements += 1\n",
    "    measurement_label = 'measurement' + '%04d' % n_measurements"
   ]
  },
  {
   "cell_type": "code",
   "execution_count": null,
   "metadata": {},
   "outputs": [],
   "source": []
  },
  {
   "cell_type": "code",
   "execution_count": null,
   "metadata": {},
   "outputs": [],
   "source": [
    "def serialize(self, file, format='ttl'):\n",
    "    \"\"\"Writes the RDF graph to file in the specified format\n",
    "\n",
    "    :param file: Path to the file to write to (String)\n",
    "    :param format: RDF format (default: 'ttl')\n",
    "    :return:\n",
    "    \"\"\"\n",
    "    try:\n",
    "        # Write out turtle file\n",
    "        self.g.serialize(destination=file, format=format)\n",
    "\n",
    "        # Output message\n",
    "        if config.verbose:\n",
    "            print('Preliminary statistics in W3C DQV written to: ' + file)\n",
    "    except IOError:\n",
    "        sys.stderr.write('Error while trying to serialize preliminary stats RDF graph to file: ' + file + '\\n')"
   ]
  },
  {
   "cell_type": "markdown",
   "metadata": {},
   "source": [
    "## Testing"
   ]
  },
  {
   "cell_type": "code",
   "execution_count": null,
   "metadata": {},
   "outputs": [],
   "source": [
    "# FAIRsharing.org URLs to test\n",
    "urls = ['https://biosharing.org/biodbcore-000015',\n",
    "        'https://biosharing.org/biodbcore-000037',\n",
    "        'https://biosharing.org/biodbcore-000081',\n",
    "        'https://biosharing.org/biodbcore-000095',\n",
    "        'https://biosharing.org/biodbcore-000104',\n",
    "        'https://biosharing.org/biodbcore-000137',\n",
    "        'https://biosharing.org/biodbcore-000155',\n",
    "        'https://biosharing.org/biodbcore-000156',\n",
    "        'https://biosharing.org/biodbcore-000173',\n",
    "        'https://biosharing.org/biodbcore-000304',\n",
    "        'https://biosharing.org/biodbcore-000329',\n",
    "        'https://biosharing.org/biodbcore-000330',\n",
    "        'https://biosharing.org/biodbcore-000341',\n",
    "        'https://biosharing.org/biodbcore-000417',\n",
    "        'https://biosharing.org/biodbcore-000438',\n",
    "        'https://biosharing.org/biodbcore-000441',\n",
    "        'https://biosharing.org/biodbcore-000455',\n",
    "        'https://biosharing.org/biodbcore-000470',\n",
    "        'https://biosharing.org/biodbcore-000495',\n",
    "        'https://biosharing.org/biodbcore-000525',\n",
    "        'https://biosharing.org/biodbcore-000544',\n",
    "        'https://biosharing.org/biodbcore-000552',\n",
    "        'https://biosharing.org/biodbcore-000663',\n",
    "        'https://biosharing.org/biodbcore-000730',\n",
    "        'https://biosharing.org/biodbcore-000805',\n",
    "        'https://biosharing.org/biodbcore-000826',\n",
    "        'https://biosharing.org/biodbcore-000842',\n",
    "        'https://fairsharing.org/biodbcore-000618',\n",
    "        'https://fairsharing.org/biodbcore-000340']\n",
    "\n",
    "# Write the results to the configured output folder\n",
    "dir_output = config.path_output\n",
    "if not os.path.exists(dir_output):\n",
    "    os.mkdir(dir_output)\n",
    "\n",
    "# List of preliminary statistics results\n",
    "stats_list = []\n",
    "\n",
    "# Process each url\n",
    "for url in urls:\n",
    "    # Scrape the page\n",
    "    stats = fair_scraper.fair_scraper(url)\n",
    "    stats_list.append(stats)\n",
    "\n",
    "    # Output filename based on url\n",
    "    filename = url.split('/')[-1] + '_rdf.ttl'\n",
    "    output_file = os.path.join(dir_output, filename)\n",
    "\n",
    "    # Use the dataset title as the local identifier\n",
    "    dataset_id = \"\".join([c for c in stats.title if c.isalnum()]) + 'Dataset'\n",
    "\n",
    "    # Write out preliminary statistics using W3C DQV\n",
    "    stats_rdf = prelim_stats_rdf.PrelimStatsRDF(dataset_id, stats)\n",
    "    stats_rdf.serialize(output_file, format='ttl')\n",
    "\n",
    "# Run the scraper and write the results to CSV\n",
    "file_output = os.path.join(dir_output, 'FAIRsharing_table.csv')\n",
    "#fair_scraper.fair_table(stats_list, file_output)"
   ]
  },
  {
   "cell_type": "code",
   "execution_count": null,
   "metadata": {},
   "outputs": [],
   "source": []
  },
  {
   "cell_type": "code",
   "execution_count": null,
   "metadata": {},
   "outputs": [],
   "source": []
  }
 ],
 "metadata": {
  "kernelspec": {
   "display_name": "Python 3",
   "language": "python",
   "name": "python3"
  },
  "language_info": {
   "codemirror_mode": {
    "name": "ipython",
    "version": 3
   },
   "file_extension": ".py",
   "mimetype": "text/x-python",
   "name": "python",
   "nbconvert_exporter": "python",
   "pygments_lexer": "ipython3",
   "version": "3.5.4"
  }
 },
 "nbformat": 4,
 "nbformat_minor": 2
}
