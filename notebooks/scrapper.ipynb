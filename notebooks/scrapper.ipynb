{
 "cells": [
  {
   "cell_type": "markdown",
   "metadata": {},
   "source": [
    "## Fair Scraper"
   ]
  },
  {
   "cell_type": "code",
   "execution_count": 2,
   "metadata": {},
   "outputs": [],
   "source": [
    "\"\"\"\n",
    "Scrapes information from FAIRsharing.org\n",
    "\"\"\"\n",
    "import os\n",
    "import requests\n",
    "from lxml import html\n",
    "import pandas as pd\n",
    "import json\n",
    "#from ncats_translator_dqa import config"
   ]
  },
  {
   "cell_type": "code",
   "execution_count": 3,
   "metadata": {},
   "outputs": [],
   "source": [
    "import sys\n",
    "sys.path.insert(0, '/Users/pedrohserrano/NCATS-Translator-DQA') \n",
    "import ncats_translator_dqa as dqa"
   ]
  },
  {
   "cell_type": "markdown",
   "metadata": {},
   "source": [
    "#### fair_scraper(url)\n",
    "FAIRsharing.org for some basic information.\n",
    "\n",
    "    Scrapes FAIRsharing.org for some basic information, including title, scope and data types, terminology artifacts,\n",
    "    and conditions of use.\n",
    "\n",
    "    :param url: String url to page to scrape\n",
    "    :return: FAIRPrelimStats object"
   ]
  },
  {
   "cell_type": "markdown",
   "metadata": {},
   "source": [
    "- Which url"
   ]
  },
  {
   "cell_type": "code",
   "execution_count": 4,
   "metadata": {},
   "outputs": [],
   "source": [
    "url = 'https://fairsharing.org/biodbcore-000015'"
   ]
  },
  {
   "cell_type": "code",
   "execution_count": 5,
   "metadata": {},
   "outputs": [],
   "source": [
    "# output message\n",
    "#if config.verbose:\n",
    "#    print('Scraping: ' + url)"
   ]
  },
  {
   "cell_type": "code",
   "execution_count": 6,
   "metadata": {},
   "outputs": [],
   "source": [
    "# load the page\n",
    "page = requests.get(url)"
   ]
  },
  {
   "cell_type": "code",
   "execution_count": 7,
   "metadata": {},
   "outputs": [],
   "source": [
    "# parse the HTML\n",
    "html_content = html.fromstring(page.content)"
   ]
  },
  {
   "cell_type": "markdown",
   "metadata": {},
   "source": [
    "- Get the title"
   ]
  },
  {
   "cell_type": "code",
   "execution_count": 8,
   "metadata": {},
   "outputs": [],
   "source": [
    "title = html_content.xpath('//div[@class=\"title-text\"]/h2/text()[last()]')"
   ]
  },
  {
   "cell_type": "code",
   "execution_count": 9,
   "metadata": {},
   "outputs": [],
   "source": [
    "title = title[0].strip()"
   ]
  },
  {
   "cell_type": "code",
   "execution_count": 10,
   "metadata": {},
   "outputs": [
    {
     "data": {
      "text/plain": [
       "['ChEMBL: a large-scale bioactivity database for drug discovery']"
      ]
     },
     "execution_count": 10,
     "metadata": {},
     "output_type": "execute_result"
    }
   ],
   "source": [
    "title = [title]\n",
    "title"
   ]
  },
  {
   "cell_type": "markdown",
   "metadata": {},
   "source": [
    "- Get the tags"
   ]
  },
  {
   "cell_type": "code",
   "execution_count": 11,
   "metadata": {},
   "outputs": [],
   "source": [
    "# Find the listed items under Scope and data types\n",
    "# <li class=\"bio-tag domain\">\n",
    "#     <span class=\"bio-icon-tag\"style=\"padding-right: 5px\"></span>\n",
    "#     Approved drug\n",
    "# </li>\n",
    "sad = html_content.xpath('//li[@class=\"bio-tag domain\"]/text()[last()]')"
   ]
  },
  {
   "cell_type": "code",
   "execution_count": 12,
   "metadata": {},
   "outputs": [
    {
     "data": {
      "text/plain": [
       "['Approved drug', 'Biomedical Science', 'Peptide', 'Small molecule']"
      ]
     },
     "execution_count": 12,
     "metadata": {},
     "output_type": "execute_result"
    }
   ],
   "source": [
    "sad = [x.strip() for x in sad]\n",
    "sad"
   ]
  },
  {
   "cell_type": "markdown",
   "metadata": {},
   "source": [
    "- Get the terminology artifacts"
   ]
  },
  {
   "cell_type": "code",
   "execution_count": 13,
   "metadata": {},
   "outputs": [],
   "source": [
    "# Find the list items under Terminology Artifacts\n",
    "# <p><span class=\"heavier\">Terminology Artifacts</span></p>\n",
    "# <ul class=\"record-list-link\">\n",
    "# \t<li class=\"small\"><a href=\"/bsg-s000039\" target=\"_blank\">Chemical Entities of Biological Interest</a></li>\n",
    "# \t<li class=\"small\"><a href=\"/bsg-s000136\" target=\"_blank\">PSI Molecular Interaction Controlled Vocabulary</a></li>\n",
    "# </ul>\n",
    "ta = html_content.xpath('//span[text()=\"Terminology Artifacts\"]/../../ul/li/a/text()')\n",
    "ta = [x.strip() for x in ta]"
   ]
  },
  {
   "cell_type": "code",
   "execution_count": 14,
   "metadata": {},
   "outputs": [
    {
     "data": {
      "text/plain": [
       "['Chemical Entities of Biological Interest',\n",
       " 'PSI Molecular Interaction Controlled Vocabulary']"
      ]
     },
     "execution_count": 14,
     "metadata": {},
     "output_type": "execute_result"
    }
   ],
   "source": [
    "ta"
   ]
  },
  {
   "cell_type": "markdown",
   "metadata": {},
   "source": [
    "- Get the license"
   ]
  },
  {
   "cell_type": "code",
   "execution_count": 15,
   "metadata": {},
   "outputs": [],
   "source": [
    "# Get license\n",
    "# <div class=\"standard-unit\">\n",
    "    # <p class=\"section-title\"><span class=\"heavier\">Conditions of Use</span></p>\n",
    "lic_groups = html_content.xpath('//span[text()=\"Conditions of Use\"]/../../span[@class=\"section-header\"]')\n",
    "\n",
    "lic_info = []\n",
    "for lic_group in lic_groups:\n",
    "    applies_to = lic_group.xpath('text()') # Get the \"Applies to\" text and fix weird whitespace\n",
    "    applies_to = ' '.join(applies_to[0].split())\n",
    "    licenses = lic_group.xpath('following-sibling::ul[1]/li/span//text()')     # Get the licenses\n",
    "    licenses = [x.strip() for x in licenses]\n",
    "    lic_info.append((applies_to, licenses))     # Add the license information as a tuple"
   ]
  },
  {
   "cell_type": "code",
   "execution_count": 16,
   "metadata": {},
   "outputs": [
    {
     "data": {
      "text/plain": [
       "[('Applies to: Data use',\n",
       "  ['Creative Commons Attribution-ShareAlike 3.0 Unported (CC BY-SA 3.0)'])]"
      ]
     },
     "execution_count": 16,
     "metadata": {},
     "output_type": "execute_result"
    }
   ],
   "source": [
    "lic_info"
   ]
  },
  {
   "cell_type": "code",
   "execution_count": 17,
   "metadata": {},
   "outputs": [],
   "source": [
    "lic_strings = []\n",
    "sep = '; '"
   ]
  },
  {
   "cell_type": "code",
   "execution_count": 18,
   "metadata": {},
   "outputs": [],
   "source": [
    "for lic in lic_info:\n",
    "    lic_strings.append(lic[0] + \" = {\" + sep.join(lic[1]) + \"}\")\n",
    "    lic_string = sep.join(lic_strings)"
   ]
  },
  {
   "cell_type": "code",
   "execution_count": 19,
   "metadata": {},
   "outputs": [
    {
     "data": {
      "text/plain": [
       "['Applies to: Data use = {Creative Commons Attribution-ShareAlike 3.0 Unported (CC BY-SA 3.0)}']"
      ]
     },
     "execution_count": 19,
     "metadata": {},
     "output_type": "execute_result"
    }
   ],
   "source": [
    "licence = [lic_string]\n",
    "licence"
   ]
  },
  {
   "cell_type": "markdown",
   "metadata": {},
   "source": [
    "- FAIR Scrapper elements  \n",
    "url, title, sad, ta, lic_info"
   ]
  },
  {
   "cell_type": "markdown",
   "metadata": {},
   "source": [
    "#### fair_table(fpss, file_output)\n",
    "Writes a list of preliminary statistics from multiple FAIRsharing.org urls to a CSV file\n",
    "\n",
    "    :param fpss: List of FAIRPrelimStats\n",
    "    :param file_output: Path to output file to write to (String)\n",
    "    :return:"
   ]
  },
  {
   "cell_type": "code",
   "execution_count": 20,
   "metadata": {},
   "outputs": [
    {
     "data": {
      "text/plain": [
       "[['https://fairsharing.org/biodbcore-000015'],\n",
       " ['ChEMBL: a large-scale bioactivity database for drug discovery'],\n",
       " ['Approved drug', 'Biomedical Science', 'Peptide', 'Small molecule'],\n",
       " ['Chemical Entities of Biological Interest',\n",
       "  'PSI Molecular Interaction Controlled Vocabulary'],\n",
       " ['Applies to: Data use = {Creative Commons Attribution-ShareAlike 3.0 Unported (CC BY-SA 3.0)}']]"
      ]
     },
     "execution_count": 20,
     "metadata": {},
     "output_type": "execute_result"
    }
   ],
   "source": [
    "fpss = [[url], title, sad, ta, licence]\n",
    "fpss"
   ]
  },
  {
   "cell_type": "code",
   "execution_count": 21,
   "metadata": {},
   "outputs": [
    {
     "data": {
      "text/plain": [
       "5"
      ]
     },
     "execution_count": 21,
     "metadata": {},
     "output_type": "execute_result"
    }
   ],
   "source": [
    "num_fpss = len(fpss)\n",
    "num_fpss"
   ]
  },
  {
   "cell_type": "code",
   "execution_count": 22,
   "metadata": {},
   "outputs": [],
   "source": [
    "titles = ['url', 'title', 'scope and data types', 'terminology artifacts', 'license']"
   ]
  },
  {
   "cell_type": "code",
   "execution_count": 23,
   "metadata": {},
   "outputs": [],
   "source": [
    "summary = {key: value for (key, value) in zip(titles, fpss)}"
   ]
  },
  {
   "cell_type": "code",
   "execution_count": 24,
   "metadata": {},
   "outputs": [
    {
     "data": {
      "text/plain": [
       "{'license': ['Applies to: Data use = {Creative Commons Attribution-ShareAlike 3.0 Unported (CC BY-SA 3.0)}'],\n",
       " 'scope and data types': ['Approved drug',\n",
       "  'Biomedical Science',\n",
       "  'Peptide',\n",
       "  'Small molecule'],\n",
       " 'terminology artifacts': ['Chemical Entities of Biological Interest',\n",
       "  'PSI Molecular Interaction Controlled Vocabulary'],\n",
       " 'title': ['ChEMBL: a large-scale bioactivity database for drug discovery'],\n",
       " 'url': ['https://fairsharing.org/biodbcore-000015']}"
      ]
     },
     "execution_count": 24,
     "metadata": {},
     "output_type": "execute_result"
    }
   ],
   "source": [
    "summary"
   ]
  },
  {
   "cell_type": "code",
   "execution_count": 96,
   "metadata": {},
   "outputs": [],
   "source": [
    "def writeToJSONFile(path, fileName, data):\n",
    "    filePathNameWExt = './' + path + '/' + fileName + '.json'\n",
    "    with open(filePathNameWExt, 'w') as fp:\n",
    "        json.dump(data, fp)"
   ]
  },
  {
   "cell_type": "code",
   "execution_count": 97,
   "metadata": {},
   "outputs": [],
   "source": [
    "writeToJSONFile('./','metrics',summary)"
   ]
  }
 ],
 "metadata": {
  "kernelspec": {
   "display_name": "Python 3",
   "language": "python",
   "name": "python3"
  },
  "language_info": {
   "codemirror_mode": {
    "name": "ipython",
    "version": 3
   },
   "file_extension": ".py",
   "mimetype": "text/x-python",
   "name": "python",
   "nbconvert_exporter": "python",
   "pygments_lexer": "ipython3",
   "version": "3.5.4"
  }
 },
 "nbformat": 4,
 "nbformat_minor": 2
}
